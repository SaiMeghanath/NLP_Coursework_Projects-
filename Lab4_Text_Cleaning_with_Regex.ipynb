{
  "nbformat": 4,
  "nbformat_minor": 0,
  "metadata": {
    "colab": {
      "provenance": [],
      "gpuType": "T4",
      "authorship_tag": "ABX9TyNjYQ8po0bkpEprwJFE+EHW",
      "include_colab_link": true
    },
    "kernelspec": {
      "name": "python3",
      "display_name": "Python 3"
    },
    "language_info": {
      "name": "python"
    },
    "accelerator": "GPU"
  },
  "cells": [
    {
      "cell_type": "markdown",
      "metadata": {
        "id": "view-in-github",
        "colab_type": "text"
      },
      "source": [
        "<a href=\"https://colab.research.google.com/github/SaiMeghanath/NLP_Coursework_Projects-/blob/main/Lab4_Text_Cleaning_with_Regex.ipynb\" target=\"_parent\"><img src=\"https://colab.research.google.com/assets/colab-badge.svg\" alt=\"Open In Colab\"/></a>"
      ]
    },
    {
      "cell_type": "markdown",
      "source": [
        "Import the Necessary Libraries\n"
      ],
      "metadata": {
        "id": "vjw5WdUbL8JZ"
      }
    },
    {
      "cell_type": "code",
      "execution_count": null,
      "metadata": {
        "id": "HarIVn8PLjaC"
      },
      "outputs": [],
      "source": [
        "import re\n"
      ]
    },
    {
      "cell_type": "code",
      "source": [
        "from google.colab import files\n",
        "uploaded = files.upload()\n",
        "\n",
        "with open('LabE4.txt', 'r') as file:\n",
        "    text = file.read()\n",
        "\n",
        "print(text[:500])\n"
      ],
      "metadata": {
        "colab": {
          "base_uri": "https://localhost:8080/",
          "height": 541
        },
        "id": "6EYMeYs9MGzO",
        "outputId": "20a9958d-473d-4e5e-ad11-bc166a37914b"
      },
      "execution_count": null,
      "outputs": [
        {
          "output_type": "display_data",
          "data": {
            "text/plain": [
              "<IPython.core.display.HTML object>"
            ],
            "text/html": [
              "\n",
              "     <input type=\"file\" id=\"files-85f4971a-972e-4bdc-ba9e-f260f532f05f\" name=\"files[]\" multiple disabled\n",
              "        style=\"border:none\" />\n",
              "     <output id=\"result-85f4971a-972e-4bdc-ba9e-f260f532f05f\">\n",
              "      Upload widget is only available when the cell has been executed in the\n",
              "      current browser session. Please rerun this cell to enable.\n",
              "      </output>\n",
              "      <script>// Copyright 2017 Google LLC\n",
              "//\n",
              "// Licensed under the Apache License, Version 2.0 (the \"License\");\n",
              "// you may not use this file except in compliance with the License.\n",
              "// You may obtain a copy of the License at\n",
              "//\n",
              "//      http://www.apache.org/licenses/LICENSE-2.0\n",
              "//\n",
              "// Unless required by applicable law or agreed to in writing, software\n",
              "// distributed under the License is distributed on an \"AS IS\" BASIS,\n",
              "// WITHOUT WARRANTIES OR CONDITIONS OF ANY KIND, either express or implied.\n",
              "// See the License for the specific language governing permissions and\n",
              "// limitations under the License.\n",
              "\n",
              "/**\n",
              " * @fileoverview Helpers for google.colab Python module.\n",
              " */\n",
              "(function(scope) {\n",
              "function span(text, styleAttributes = {}) {\n",
              "  const element = document.createElement('span');\n",
              "  element.textContent = text;\n",
              "  for (const key of Object.keys(styleAttributes)) {\n",
              "    element.style[key] = styleAttributes[key];\n",
              "  }\n",
              "  return element;\n",
              "}\n",
              "\n",
              "// Max number of bytes which will be uploaded at a time.\n",
              "const MAX_PAYLOAD_SIZE = 100 * 1024;\n",
              "\n",
              "function _uploadFiles(inputId, outputId) {\n",
              "  const steps = uploadFilesStep(inputId, outputId);\n",
              "  const outputElement = document.getElementById(outputId);\n",
              "  // Cache steps on the outputElement to make it available for the next call\n",
              "  // to uploadFilesContinue from Python.\n",
              "  outputElement.steps = steps;\n",
              "\n",
              "  return _uploadFilesContinue(outputId);\n",
              "}\n",
              "\n",
              "// This is roughly an async generator (not supported in the browser yet),\n",
              "// where there are multiple asynchronous steps and the Python side is going\n",
              "// to poll for completion of each step.\n",
              "// This uses a Promise to block the python side on completion of each step,\n",
              "// then passes the result of the previous step as the input to the next step.\n",
              "function _uploadFilesContinue(outputId) {\n",
              "  const outputElement = document.getElementById(outputId);\n",
              "  const steps = outputElement.steps;\n",
              "\n",
              "  const next = steps.next(outputElement.lastPromiseValue);\n",
              "  return Promise.resolve(next.value.promise).then((value) => {\n",
              "    // Cache the last promise value to make it available to the next\n",
              "    // step of the generator.\n",
              "    outputElement.lastPromiseValue = value;\n",
              "    return next.value.response;\n",
              "  });\n",
              "}\n",
              "\n",
              "/**\n",
              " * Generator function which is called between each async step of the upload\n",
              " * process.\n",
              " * @param {string} inputId Element ID of the input file picker element.\n",
              " * @param {string} outputId Element ID of the output display.\n",
              " * @return {!Iterable<!Object>} Iterable of next steps.\n",
              " */\n",
              "function* uploadFilesStep(inputId, outputId) {\n",
              "  const inputElement = document.getElementById(inputId);\n",
              "  inputElement.disabled = false;\n",
              "\n",
              "  const outputElement = document.getElementById(outputId);\n",
              "  outputElement.innerHTML = '';\n",
              "\n",
              "  const pickedPromise = new Promise((resolve) => {\n",
              "    inputElement.addEventListener('change', (e) => {\n",
              "      resolve(e.target.files);\n",
              "    });\n",
              "  });\n",
              "\n",
              "  const cancel = document.createElement('button');\n",
              "  inputElement.parentElement.appendChild(cancel);\n",
              "  cancel.textContent = 'Cancel upload';\n",
              "  const cancelPromise = new Promise((resolve) => {\n",
              "    cancel.onclick = () => {\n",
              "      resolve(null);\n",
              "    };\n",
              "  });\n",
              "\n",
              "  // Wait for the user to pick the files.\n",
              "  const files = yield {\n",
              "    promise: Promise.race([pickedPromise, cancelPromise]),\n",
              "    response: {\n",
              "      action: 'starting',\n",
              "    }\n",
              "  };\n",
              "\n",
              "  cancel.remove();\n",
              "\n",
              "  // Disable the input element since further picks are not allowed.\n",
              "  inputElement.disabled = true;\n",
              "\n",
              "  if (!files) {\n",
              "    return {\n",
              "      response: {\n",
              "        action: 'complete',\n",
              "      }\n",
              "    };\n",
              "  }\n",
              "\n",
              "  for (const file of files) {\n",
              "    const li = document.createElement('li');\n",
              "    li.append(span(file.name, {fontWeight: 'bold'}));\n",
              "    li.append(span(\n",
              "        `(${file.type || 'n/a'}) - ${file.size} bytes, ` +\n",
              "        `last modified: ${\n",
              "            file.lastModifiedDate ? file.lastModifiedDate.toLocaleDateString() :\n",
              "                                    'n/a'} - `));\n",
              "    const percent = span('0% done');\n",
              "    li.appendChild(percent);\n",
              "\n",
              "    outputElement.appendChild(li);\n",
              "\n",
              "    const fileDataPromise = new Promise((resolve) => {\n",
              "      const reader = new FileReader();\n",
              "      reader.onload = (e) => {\n",
              "        resolve(e.target.result);\n",
              "      };\n",
              "      reader.readAsArrayBuffer(file);\n",
              "    });\n",
              "    // Wait for the data to be ready.\n",
              "    let fileData = yield {\n",
              "      promise: fileDataPromise,\n",
              "      response: {\n",
              "        action: 'continue',\n",
              "      }\n",
              "    };\n",
              "\n",
              "    // Use a chunked sending to avoid message size limits. See b/62115660.\n",
              "    let position = 0;\n",
              "    do {\n",
              "      const length = Math.min(fileData.byteLength - position, MAX_PAYLOAD_SIZE);\n",
              "      const chunk = new Uint8Array(fileData, position, length);\n",
              "      position += length;\n",
              "\n",
              "      const base64 = btoa(String.fromCharCode.apply(null, chunk));\n",
              "      yield {\n",
              "        response: {\n",
              "          action: 'append',\n",
              "          file: file.name,\n",
              "          data: base64,\n",
              "        },\n",
              "      };\n",
              "\n",
              "      let percentDone = fileData.byteLength === 0 ?\n",
              "          100 :\n",
              "          Math.round((position / fileData.byteLength) * 100);\n",
              "      percent.textContent = `${percentDone}% done`;\n",
              "\n",
              "    } while (position < fileData.byteLength);\n",
              "  }\n",
              "\n",
              "  // All done.\n",
              "  yield {\n",
              "    response: {\n",
              "      action: 'complete',\n",
              "    }\n",
              "  };\n",
              "}\n",
              "\n",
              "scope.google = scope.google || {};\n",
              "scope.google.colab = scope.google.colab || {};\n",
              "scope.google.colab._files = {\n",
              "  _uploadFiles,\n",
              "  _uploadFilesContinue,\n",
              "};\n",
              "})(self);\n",
              "</script> "
            ]
          },
          "metadata": {}
        },
        {
          "output_type": "stream",
          "name": "stdout",
          "text": [
            "Saving LabE4.txt to LabE4 (2).txt\n",
            "WEBVTT\n",
            "\n",
            "NOTE duration:\"00:06:54\"\n",
            "\n",
            "NOTE recognizability:0.684\n",
            "\n",
            "NOTE language:en-us\n",
            "\n",
            "NOTE Confidence: 0.62458827231579\n",
            "\n",
            "76f86f8d-0f62-433a-a8d4-7b7088fc7070\n",
            "00:00:07.110 --> 00:00:08.730\n",
            "Hello and welcome back.\n",
            "\n",
            "NOTE Confidence: 0.62458827231579\n",
            "\n",
            "3973772b-485a-4b33-8be2-f9f90b42089e\n",
            "00:00:08.730 --> 00:00:11.575\n",
            "In the previous video we have seen\n",
            "\n",
            "NOTE Confidence: 0.62458827231579\n",
            "\n",
            "0a765adf-b5a9-4f04-9f63-27273a8b3814\n",
            "00:00:11.575 --> 00:00:14.223\n",
            "in jargon the key terms and so on.\n",
            "\n",
            "NOTE Confidenc\n"
          ]
        }
      ]
    },
    {
      "cell_type": "markdown",
      "source": [
        "Remove all non-alphanumeric characters"
      ],
      "metadata": {
        "id": "nEaXR3b6M1BJ"
      }
    },
    {
      "cell_type": "code",
      "source": [
        "cleaned_text = re.sub(r'[^A-Za-z0-9\\s]', '', text)\n",
        "print(cleaned_text[:500])  # To check the first 500 characters of cleaned text\n"
      ],
      "metadata": {
        "colab": {
          "base_uri": "https://localhost:8080/"
        },
        "id": "rcl2EtcqM1z-",
        "outputId": "1fb15d46-1a36-44c2-8bbf-5127be6f4d3e"
      },
      "execution_count": null,
      "outputs": [
        {
          "output_type": "stream",
          "name": "stdout",
          "text": [
            "WEBVTT\n",
            "\n",
            "NOTE duration000654\n",
            "\n",
            "NOTE recognizability0684\n",
            "\n",
            "NOTE languageenus\n",
            "\n",
            "NOTE Confidence 062458827231579\n",
            "\n",
            "76f86f8d0f62433aa8d47b7088fc7070\n",
            "000007110  000008730\n",
            "Hello and welcome back\n",
            "\n",
            "NOTE Confidence 062458827231579\n",
            "\n",
            "3973772b485a4b338be2f9f90b42089e\n",
            "000008730  000011575\n",
            "In the previous video we have seen\n",
            "\n",
            "NOTE Confidence 062458827231579\n",
            "\n",
            "0a765adfb5a94f049f6327273a8b3814\n",
            "000011575  000014223\n",
            "in jargon the key terms and so on\n",
            "\n",
            "NOTE Confidence 062458827231579\n",
            "\n",
            "86dbdc1ddde44cd69a94e413dc9b881f\n",
            "0000\n"
          ]
        }
      ]
    },
    {
      "cell_type": "markdown",
      "source": [
        "Remove extra spaces"
      ],
      "metadata": {
        "id": "b-JuVonVM8Su"
      }
    },
    {
      "cell_type": "code",
      "source": [
        "cleaned_text = re.sub(r'\\s+', ' ', cleaned_text).strip()\n",
        "print(cleaned_text[:500])  # To check the first 500 characters of cleaned text\n"
      ],
      "metadata": {
        "colab": {
          "base_uri": "https://localhost:8080/"
        },
        "id": "gdsEuuc1M8BF",
        "outputId": "8ed76062-90c5-4bd7-eb9f-4b1952ea1b1c"
      },
      "execution_count": null,
      "outputs": [
        {
          "output_type": "stream",
          "name": "stdout",
          "text": [
            "WEBVTT NOTE duration000654 NOTE recognizability0684 NOTE languageenus NOTE Confidence 062458827231579 76f86f8d0f62433aa8d47b7088fc7070 000007110 000008730 Hello and welcome back NOTE Confidence 062458827231579 3973772b485a4b338be2f9f90b42089e 000008730 000011575 In the previous video we have seen NOTE Confidence 062458827231579 0a765adfb5a94f049f6327273a8b3814 000011575 000014223 in jargon the key terms and so on NOTE Confidence 062458827231579 86dbdc1ddde44cd69a94e413dc9b881f 000014230 00001643\n"
          ]
        }
      ]
    },
    {
      "cell_type": "markdown",
      "source": [
        "Convert the text to lowercase"
      ],
      "metadata": {
        "id": "IkyUQFWYNKPe"
      }
    },
    {
      "cell_type": "code",
      "source": [
        "cleaned_text = cleaned_text.lower()\n",
        "print(cleaned_text[:500])\n"
      ],
      "metadata": {
        "colab": {
          "base_uri": "https://localhost:8080/"
        },
        "id": "N6MxYJWGNK8W",
        "outputId": "e85c6664-ca12-47c5-c864-8b5a21653e9d"
      },
      "execution_count": null,
      "outputs": [
        {
          "output_type": "stream",
          "name": "stdout",
          "text": [
            "webvtt note duration000654 note recognizability0684 note languageenus note confidence 062458827231579 76f86f8d0f62433aa8d47b7088fc7070 000007110 000008730 hello and welcome back note confidence 062458827231579 3973772b485a4b338be2f9f90b42089e 000008730 000011575 in the previous video we have seen note confidence 062458827231579 0a765adfb5a94f049f6327273a8b3814 000011575 000014223 in jargon the key terms and so on note confidence 062458827231579 86dbdc1ddde44cd69a94e413dc9b881f 000014230 00001643\n"
          ]
        }
      ]
    },
    {
      "cell_type": "markdown",
      "source": [
        "Date of form: “MM-DD-YYYY”"
      ],
      "metadata": {
        "id": "ItetpOEdOI-i"
      }
    },
    {
      "cell_type": "code",
      "source": [
        "date_pattern = r'\\b\\d{2}-\\d{2}-\\d{4}\\b'\n",
        "example = \"20-11-2003\"\n",
        "match = re.search(date_pattern, example)\n",
        "print(match.group() if match else \"No match found\")\n",
        "\n"
      ],
      "metadata": {
        "colab": {
          "base_uri": "https://localhost:8080/"
        },
        "id": "APaRvok0OJmI",
        "outputId": "66786cfa-aafe-45c4-b327-5e05fef9b7e8"
      },
      "execution_count": null,
      "outputs": [
        {
          "output_type": "stream",
          "name": "stdout",
          "text": [
            "20-11-2003\n"
          ]
        }
      ]
    },
    {
      "cell_type": "markdown",
      "source": [
        "Time with format: “HH:MM:SS”"
      ],
      "metadata": {
        "id": "i6Q_gkvROO91"
      }
    },
    {
      "cell_type": "code",
      "source": [
        "time_24hr_pattern = r'\\b\\d{2}:\\d{2}:\\d{2}\\b'\n",
        "example = \"14:45:30\"\n",
        "match = re.search(time_24hr_pattern, example)\n",
        "print(match.group() if match else \"No match found\")\n",
        "\n"
      ],
      "metadata": {
        "colab": {
          "base_uri": "https://localhost:8080/"
        },
        "id": "AYB7mMtdOQCG",
        "outputId": "b471b653-1fad-4129-b4f3-c597ffb59dac"
      },
      "execution_count": null,
      "outputs": [
        {
          "output_type": "stream",
          "name": "stdout",
          "text": [
            "14:45:30\n"
          ]
        }
      ]
    },
    {
      "cell_type": "markdown",
      "source": [
        "Time with format: “HH:MM:SS AM” or “HH:MM:SS PM"
      ],
      "metadata": {
        "id": "ofDWTytROUjN"
      }
    },
    {
      "cell_type": "code",
      "source": [
        "time_12hr_pattern = r'\\b\\d{2}:\\d{2}:\\d{2} (AM|PM)\\b'\n",
        "example = \"02:30:45 PM\"\n",
        "match = re.search(time_12hr_pattern, example)\n",
        "print(match.group() if match else \"No match found\")\n"
      ],
      "metadata": {
        "colab": {
          "base_uri": "https://localhost:8080/"
        },
        "id": "jiWq5GnNOV1r",
        "outputId": "750233e1-1678-4c90-da2f-11ce8cfe9e3f"
      },
      "execution_count": null,
      "outputs": [
        {
          "output_type": "stream",
          "name": "stdout",
          "text": [
            "02:30:45 PM\n"
          ]
        }
      ]
    },
    {
      "cell_type": "markdown",
      "source": [
        "Full Name: “Mr. ………"
      ],
      "metadata": {
        "id": "fEagOOs2Os3a"
      }
    },
    {
      "cell_type": "code",
      "source": [
        "name_pattern = r'\\b(Mr|Ms|Mrs)\\. [A-Za-z]+\\b'\n",
        "example = \"Mr. SaiMeghanath\"\n",
        "match = re.search(name_pattern, example)\n",
        "print(match.group() if match else \"No match found\")\n"
      ],
      "metadata": {
        "colab": {
          "base_uri": "https://localhost:8080/"
        },
        "id": "jsR46QcwOtpY",
        "outputId": "25c1458d-5886-4f0d-8743-6ec64f90f2ac"
      },
      "execution_count": null,
      "outputs": [
        {
          "output_type": "stream",
          "name": "stdout",
          "text": [
            "Mr. SaiMeghanath\n"
          ]
        }
      ]
    },
    {
      "cell_type": "markdown",
      "source": [
        " Enrollment number for Amrita University"
      ],
      "metadata": {
        "id": "3FYZqO5HO6NL"
      }
    },
    {
      "cell_type": "code",
      "source": [
        "enrollment_pattern = r'\\bAMR\\d{8}\\b'\n",
        "example = \"AMR12345678\"\n",
        "match = re.search(enrollment_pattern, example)\n",
        "print(match.group() if match else \"No match found\")\n"
      ],
      "metadata": {
        "colab": {
          "base_uri": "https://localhost:8080/"
        },
        "id": "ycLcK_UJO63w",
        "outputId": "f83e3e25-7294-4b3f-b64c-f39c1450e9dd"
      },
      "execution_count": null,
      "outputs": [
        {
          "output_type": "stream",
          "name": "stdout",
          "text": [
            "AMR12345678\n"
          ]
        }
      ]
    },
    {
      "cell_type": "markdown",
      "source": [
        " Indian Landline Number"
      ],
      "metadata": {
        "id": "nRwAXGsDPAYz"
      }
    },
    {
      "cell_type": "code",
      "source": [
        "landline_pattern = r'\\b\\d{3,4}-\\d{7,8}\\b'\n",
        "example = \"0476-2802017\"\n",
        "match = re.search(landline_pattern, example)\n",
        "print(match.group() if match else \"No match found\")\n"
      ],
      "metadata": {
        "colab": {
          "base_uri": "https://localhost:8080/"
        },
        "id": "piOE6xxGPBLm",
        "outputId": "f1fdb2ae-8c44-4ca6-c725-d66e83db2f86"
      },
      "execution_count": null,
      "outputs": [
        {
          "output_type": "stream",
          "name": "stdout",
          "text": [
            "0476-2802017\n"
          ]
        }
      ]
    },
    {
      "cell_type": "markdown",
      "source": [
        "Any Mobile Numbers:"
      ],
      "metadata": {
        "id": "rS7iuSJ1PFg3"
      }
    },
    {
      "cell_type": "code",
      "source": [
        "mobile_pattern = r'\\+\\d{1,3}-\\d{10}\\b'\n",
        "example = \"+91-1234567890\"\n",
        "match = re.search(mobile_pattern, example)\n",
        "print(match.group() if match else \"No match found\")\n"
      ],
      "metadata": {
        "colab": {
          "base_uri": "https://localhost:8080/"
        },
        "id": "FnslI18OPGRD",
        "outputId": "10d97b11-cef7-4b0e-b656-d85b57ba83f3"
      },
      "execution_count": null,
      "outputs": [
        {
          "output_type": "stream",
          "name": "stdout",
          "text": [
            "+91-1234567890\n"
          ]
        }
      ]
    },
    {
      "cell_type": "markdown",
      "source": [
        " Indian Postal Pin code"
      ],
      "metadata": {
        "id": "-yD1sFSjPLUg"
      }
    },
    {
      "cell_type": "code",
      "source": [
        "pin_code_pattern = r'\\b\\d{3} \\d{3}\\b'\n",
        "example = \"690 525\"\n",
        "match = re.search(pin_code_pattern, example)\n",
        "print(match.group() if match else \"No match found\")\n"
      ],
      "metadata": {
        "colab": {
          "base_uri": "https://localhost:8080/"
        },
        "id": "UW7FgQhLPMM-",
        "outputId": "a02fff24-11bd-4202-e55a-e4a7f76a8c70"
      },
      "execution_count": null,
      "outputs": [
        {
          "output_type": "stream",
          "name": "stdout",
          "text": [
            "690 525\n"
          ]
        }
      ]
    },
    {
      "cell_type": "markdown",
      "source": [
        "Tokenize a sentenc"
      ],
      "metadata": {
        "id": "b-onp2klPRx7"
      }
    },
    {
      "cell_type": "code",
      "source": [
        "tokenize_pattern = r'\\w+|[^\\w\\s]+'\n",
        "example = \"Hello, my name is Meghanath!\"\n",
        "matches = re.findall(tokenize_pattern, example)\n",
        "print(matches)\n"
      ],
      "metadata": {
        "colab": {
          "base_uri": "https://localhost:8080/"
        },
        "id": "03p7YT8yPSt2",
        "outputId": "7d26b08a-24c6-43f9-8c29-b666d5054c8d"
      },
      "execution_count": null,
      "outputs": [
        {
          "output_type": "stream",
          "name": "stdout",
          "text": [
            "['Hello', ',', 'my', 'name', 'is', 'Meghanath', '!']\n"
          ]
        }
      ]
    },
    {
      "cell_type": "markdown",
      "source": [
        "Finding any 4 digits in a text"
      ],
      "metadata": {
        "id": "17sGHMO-PWJH"
      }
    },
    {
      "cell_type": "code",
      "source": [
        "four_digit_pattern = r'\\b\\d{4}\\b'\n",
        "example = \"My pin is 1234 and my code is 5678\"\n",
        "matches = re.findall(four_digit_pattern, example)\n",
        "print(matches)\n"
      ],
      "metadata": {
        "colab": {
          "base_uri": "https://localhost:8080/"
        },
        "id": "163uHBJYPYi3",
        "outputId": "2457838c-5674-427e-8087-11f8f8bf3cfb"
      },
      "execution_count": null,
      "outputs": [
        {
          "output_type": "stream",
          "name": "stdout",
          "text": [
            "['1234', '5678']\n"
          ]
        }
      ]
    },
    {
      "cell_type": "markdown",
      "source": [
        "Card Number:"
      ],
      "metadata": {
        "id": "Dda9eht_PeYi"
      }
    },
    {
      "cell_type": "code",
      "source": [
        "card_number_pattern = r'\\b\\d{4}-\\d{4}-\\d{4}-\\d{4}\\b'\n",
        "example = \"1234-5678-9876-5432\"\n",
        "match = re.search(card_number_pattern, example)\n",
        "print(match.group() if match else \"No match found\")\n"
      ],
      "metadata": {
        "colab": {
          "base_uri": "https://localhost:8080/"
        },
        "id": "PLo61JnqPc_i",
        "outputId": "efc5f44a-f9c2-4438-ded6-1dbed7aa70b9"
      },
      "execution_count": null,
      "outputs": [
        {
          "output_type": "stream",
          "name": "stdout",
          "text": [
            "1234-5678-9876-5432\n"
          ]
        }
      ]
    },
    {
      "cell_type": "markdown",
      "source": [
        " Twitter User"
      ],
      "metadata": {
        "id": "OUioBgaAPjl8"
      }
    },
    {
      "cell_type": "code",
      "source": [
        "twitter_user_pattern = r'@([A-Za-z0-9_]+)'\n",
        "example = \"@Meghanath\"\n",
        "match = re.search(twitter_user_pattern, example)\n",
        "print(match.group() if match else \"No match found\")\n"
      ],
      "metadata": {
        "colab": {
          "base_uri": "https://localhost:8080/"
        },
        "id": "v2y_s2M1PkW8",
        "outputId": "51eaa4dc-7ea6-41c2-9378-d47d0004ae9b"
      },
      "execution_count": null,
      "outputs": [
        {
          "output_type": "stream",
          "name": "stdout",
          "text": [
            "@Meghanath\n"
          ]
        }
      ]
    },
    {
      "cell_type": "markdown",
      "source": [
        "IP Address"
      ],
      "metadata": {
        "id": "0Ql9eP8OPo7P"
      }
    },
    {
      "cell_type": "code",
      "source": [
        "ip_address_pattern = r'\\b(?:\\d{1,3}\\.){3}\\d{1,3}\\b'\n",
        "example = \"192.168.1.1\"\n",
        "match = re.search(ip_address_pattern, example)\n",
        "print(match.group() if match else \"No match found\")\n"
      ],
      "metadata": {
        "colab": {
          "base_uri": "https://localhost:8080/"
        },
        "id": "QGhJEBVxPptG",
        "outputId": "56672769-4b8a-479e-95ca-81a980fef906"
      },
      "execution_count": null,
      "outputs": [
        {
          "output_type": "stream",
          "name": "stdout",
          "text": [
            "192.168.1.1\n"
          ]
        }
      ]
    },
    {
      "cell_type": "markdown",
      "source": [
        "Pv6 Address:"
      ],
      "metadata": {
        "id": "t_xu3SUNPuat"
      }
    },
    {
      "cell_type": "code",
      "source": [
        "ipv6_address_pattern = r'\\b([0-9a-fA-F]{1,4}:){7}[0-9a-fA-F]{1,4}\\b'\n",
        "example = \"2001:cdba:0000:0000:0000:0000:3257:965\"\n",
        "match = re.search(ipv6_address_pattern, example)\n",
        "print(match.group() if match else \"No match found\")\n"
      ],
      "metadata": {
        "colab": {
          "base_uri": "https://localhost:8080/"
        },
        "id": "eeOBg3x1PvDb",
        "outputId": "bc194172-6ada-440a-bc41-e1529ae44723"
      },
      "execution_count": null,
      "outputs": [
        {
          "output_type": "stream",
          "name": "stdout",
          "text": [
            "2001:cdba:0000:0000:0000:0000:3257:965\n"
          ]
        }
      ]
    }
  ]
}