{
  "cells": [
    {
      "cell_type": "markdown",
      "metadata": {
        "id": "view-in-github",
        "colab_type": "text"
      },
      "source": [
        "<a href=\"https://colab.research.google.com/github/SaiMeghanath/NLP_Coursework_Projects-/blob/main/Lab3_Regex_in_NLP.ipynb\" target=\"_parent\"><img src=\"https://colab.research.google.com/assets/colab-badge.svg\" alt=\"Open In Colab\"/></a>"
      ]
    },
    {
      "cell_type": "markdown",
      "metadata": {
        "id": "QYcV6gZ7Zf_A"
      },
      "source": [
        "Lab Sheet 3: Natural Language Processing"
      ]
    },
    {
      "cell_type": "code",
      "execution_count": null,
      "metadata": {
        "id": "SU_QzDq8_s1L"
      },
      "outputs": [],
      "source": [
        "import re"
      ]
    },
    {
      "cell_type": "markdown",
      "metadata": {
        "id": "a7hT_fv8kRbu"
      },
      "source": [
        "This example checks if the word \"hello\" is present in a given text."
      ]
    },
    {
      "cell_type": "code",
      "execution_count": null,
      "metadata": {
        "colab": {
          "base_uri": "https://localhost:8080/"
        },
        "id": "Ai20TC_nmynh",
        "outputId": "3230f3bf-6469-46d7-ea91-9cdc2c68994a"
      },
      "outputs": [
        {
          "name": "stdout",
          "output_type": "stream",
          "text": [
            "Pattern found!\n"
          ]
        }
      ],
      "source": [
        "import re\n",
        "\n",
        "\n",
        "pattern = r\"hello\"\n",
        "\n",
        "text = \"hello, how are you?\"\n",
        "\n",
        "match = re.search(pattern, text)\n",
        "\n",
        "if match:\n",
        "    print(\"Pattern found!\")\n",
        "else:\n",
        "    print(\"Pattern not found!\")\n",
        "\n"
      ]
    },
    {
      "cell_type": "markdown",
      "metadata": {
        "id": "1jtJTOveCBtB"
      },
      "source": [
        " Using re.fullmatch() to Check Full String Match"
      ]
    },
    {
      "cell_type": "code",
      "execution_count": null,
      "metadata": {
        "colab": {
          "base_uri": "https://localhost:8080/"
        },
        "id": "t2Z9AwxVnc1E",
        "outputId": "da353caa-904e-4347-bb0f-98ecf7ec0b6b"
      },
      "outputs": [
        {
          "name": "stdout",
          "output_type": "stream",
          "text": [
            "Full match found!\n"
          ]
        }
      ],
      "source": [
        "import re\n",
        "\n",
        "pattern = r\"\\d{3}-\\d{3}-\\d{4}\"\n",
        "\n",
        "text = \"123-456-7890\"\n",
        "\n",
        "match = re.fullmatch(pattern, text)\n",
        "\n",
        "if match:\n",
        "    print(\"Full match found!\")\n",
        "else:\n",
        "    print(\"No full match found.\")\n"
      ]
    },
    {
      "cell_type": "markdown",
      "metadata": {
        "id": "uHHenW2WCiRx"
      },
      "source": [
        " Using Multiple Meta-characters"
      ]
    },
    {
      "cell_type": "code",
      "execution_count": null,
      "metadata": {
        "colab": {
          "base_uri": "https://localhost:8080/"
        },
        "id": "SIT1cS4sCEwk",
        "outputId": "8fbf1a48-5fb3-417b-914b-6aae912e3300"
      },
      "outputs": [
        {
          "name": "stdout",
          "output_type": "stream",
          "text": [
            "Matches found: ['1234-abc@example.com', '5678 abc@backup.org']\n"
          ]
        }
      ],
      "source": [
        "import re\n",
        "\n",
        "pattern = r\"\\d{2,4}[-\\s]?[A-Za-z]+[@][a-zA-Z0-9.-]+\\.[a-zA-Z]{2,}\"\n",
        "\n",
        "text = \"My email is 1234-abc@example.com and my backup is 5678 abc@backup.org.\"\n",
        "\n",
        "matches = re.findall(pattern, text)\n",
        "\n",
        "print(\"Matches found:\", matches)\n"
      ]
    },
    {
      "cell_type": "markdown",
      "metadata": {
        "id": "ftXsW4fnCnh8"
      },
      "source": [
        "Using Meta-characters for Complex Matching"
      ]
    },
    {
      "cell_type": "code",
      "execution_count": null,
      "metadata": {
        "colab": {
          "base_uri": "https://localhost:8080/"
        },
        "id": "TJ6suhH_CoMG",
        "outputId": "518bcbcb-7c42-407c-e808-c1337c4e792f"
      },
      "outputs": [
        {
          "name": "stdout",
          "output_type": "stream",
          "text": [
            "Valid email address!\n"
          ]
        }
      ],
      "source": [
        "import re\n",
        "\n",
        "pattern = r\"^[A-Za-z0-9_]+@[A-Za-z0-9.-]+\\.[a-zA-Z]{2,}$\"\n",
        "\n",
        "text = \"valid_email@domain.com\"\n",
        "\n",
        "match = re.fullmatch(pattern, text)\n",
        "\n",
        "if match:\n",
        "    print(\"Valid email address!\")\n",
        "else:\n",
        "    print(\"Invalid email address.\")\n"
      ]
    },
    {
      "cell_type": "markdown",
      "metadata": {
        "id": "OIvm9nRdC2Xw"
      },
      "source": [
        " Using the OR Character (|)"
      ]
    },
    {
      "cell_type": "code",
      "execution_count": null,
      "metadata": {
        "colab": {
          "base_uri": "https://localhost:8080/"
        },
        "id": "qggu3tktC3Lg",
        "outputId": "06ec4301-bbdd-4ab7-ba0c-7165f6bc6de4"
      },
      "outputs": [
        {
          "name": "stdout",
          "output_type": "stream",
          "text": [
            "Matches found: ['cat', 'dog']\n"
          ]
        }
      ],
      "source": [
        "import re\n",
        "\n",
        "pattern = r\"cat|dog\"\n",
        "\n",
        "text = \"I have a cat and a dog.\"\n",
        "\n",
        "matches = re.findall(pattern, text)\n",
        "\n",
        "print(\"Matches found:\", matches)\n"
      ]
    },
    {
      "cell_type": "markdown",
      "metadata": {
        "id": "mNXo3ABkDMVL"
      },
      "source": [
        " Using the Backslash Character (\\)"
      ]
    },
    {
      "cell_type": "code",
      "execution_count": null,
      "metadata": {
        "colab": {
          "base_uri": "https://localhost:8080/"
        },
        "id": "e361zk7vDNXO",
        "outputId": "ceecd5f0-d0ab-4149-dfd0-ade25f166090"
      },
      "outputs": [
        {
          "name": "stdout",
          "output_type": "stream",
          "text": [
            "Match found: 123-45-6789\n"
          ]
        }
      ],
      "source": [
        "import re\n",
        "\n",
        "pattern = r\"\\d{3}-\\d{2}-\\d{4}\"\n",
        "\n",
        "text = \"My social security number is 123-45-6789.\"\n",
        "\n",
        "match = re.search(pattern, text)\n",
        "\n",
        "if match:\n",
        "    print(\"Match found:\", match.group())\n",
        "else:\n",
        "    print(\"No match found.\")\n"
      ]
    },
    {
      "cell_type": "markdown",
      "metadata": {
        "id": "9hPzuWdQEZIU"
      },
      "source": [
        "Using * (Zero)"
      ]
    },
    {
      "cell_type": "code",
      "execution_count": null,
      "metadata": {
        "colab": {
          "base_uri": "https://localhost:8080/"
        },
        "id": "qThbWZ5GEb0a",
        "outputId": "ebe0272d-e28c-4f6b-c2e6-7b961a2fa1d0"
      },
      "outputs": [
        {
          "name": "stdout",
          "output_type": "stream",
          "text": [
            "True\n"
          ]
        }
      ],
      "source": [
        "import re\n",
        "\n",
        "text = '123'\n",
        "pattern = r'\\d*'\n",
        "\n",
        "results = True if re.fullmatch(pattern, text) else False\n",
        "print(results)\n"
      ]
    },
    {
      "cell_type": "markdown",
      "metadata": {
        "id": "TyY_vGUQEgQ4"
      },
      "source": [
        "Using +"
      ]
    },
    {
      "cell_type": "code",
      "execution_count": null,
      "metadata": {
        "colab": {
          "base_uri": "https://localhost:8080/"
        },
        "id": "ijzbyQdeEg3p",
        "outputId": "69caad85-2bf5-491b-e673-48d0e7e0cb0a"
      },
      "outputs": [
        {
          "name": "stdout",
          "output_type": "stream",
          "text": [
            "True\n"
          ]
        }
      ],
      "source": [
        "import re\n",
        "\n",
        "text = '123'\n",
        "pattern = r'\\d+'\n",
        "\n",
        "results = True if re.fullmatch(pattern, text) else False\n",
        "print(results)\n"
      ]
    },
    {
      "cell_type": "markdown",
      "metadata": {
        "id": "kmpywZLtE4da"
      },
      "source": [
        "Using ?"
      ]
    },
    {
      "cell_type": "code",
      "execution_count": null,
      "metadata": {
        "id": "tGhr0MXjE5Mg"
      },
      "outputs": [],
      "source": [
        "import re\n",
        "\n",
        "text = '1'\n",
        "pattern = r'\\d?'\n",
        "\n",
        "results = True if re.fullmatch(pattern, text) else False\n",
        "print(results)\n"
      ]
    },
    {
      "cell_type": "markdown",
      "metadata": {
        "id": "WHIbgznSE9kI"
      },
      "source": [
        " Using {n} (Exactly n times)"
      ]
    },
    {
      "cell_type": "code",
      "execution_count": null,
      "metadata": {
        "colab": {
          "base_uri": "https://localhost:8080/"
        },
        "id": "H2BLYvTAE-kI",
        "outputId": "b8674e37-23e6-4e89-d273-b0d7ae78fc00"
      },
      "outputs": [
        {
          "name": "stdout",
          "output_type": "stream",
          "text": [
            "True\n"
          ]
        }
      ],
      "source": [
        "import re\n",
        "\n",
        "text = '123'\n",
        "pattern = r'\\d{3}'\n",
        "\n",
        "results = True if re.fullmatch(pattern, text) else False\n",
        "print(results)\n"
      ]
    },
    {
      "cell_type": "markdown",
      "metadata": {
        "id": "VmqVP3gCFHqX"
      },
      "source": [
        "Using {n,m} (Between n and m times)"
      ]
    },
    {
      "cell_type": "code",
      "execution_count": null,
      "metadata": {
        "colab": {
          "base_uri": "https://localhost:8080/"
        },
        "id": "gqENrjrtFIl4",
        "outputId": "08d73365-746f-45df-db94-e2ab50ce9443"
      },
      "outputs": [
        {
          "name": "stdout",
          "output_type": "stream",
          "text": [
            "True\n"
          ]
        }
      ],
      "source": [
        "import re\n",
        "\n",
        "text = '123'\n",
        "pattern = r'\\d{2,4}'\n",
        "\n",
        "results = True if re.fullmatch(pattern, text) else False\n",
        "print(results)\n"
      ]
    },
    {
      "cell_type": "markdown",
      "metadata": {
        "id": "ZzisqdaCFkka"
      },
      "source": [
        "search()"
      ]
    },
    {
      "cell_type": "code",
      "execution_count": null,
      "metadata": {
        "colab": {
          "base_uri": "https://localhost:8080/"
        },
        "id": "Wa5izJMnFlih",
        "outputId": "9457b8f7-3c59-4fba-a736-63ddf0e289b1"
      },
      "outputs": [
        {
          "name": "stdout",
          "output_type": "stream",
          "text": [
            "True\n"
          ]
        }
      ],
      "source": [
        "import re\n",
        "\n",
        "text = \"Hello, my name is Meghanath\"\n",
        "pattern = r\"name\"\n",
        "\n",
        "match = re.search(pattern, text)\n",
        "\n",
        "results = True if match else False\n",
        "print(results)\n"
      ]
    },
    {
      "cell_type": "markdown",
      "metadata": {
        "id": "22PubiLvFqTG"
      },
      "source": [
        "match()"
      ]
    },
    {
      "cell_type": "code",
      "execution_count": null,
      "metadata": {
        "colab": {
          "base_uri": "https://localhost:8080/"
        },
        "id": "RauSn6PQFrLs",
        "outputId": "e902d52e-67a0-4fc2-f5dd-5de541efe1f0"
      },
      "outputs": [
        {
          "name": "stdout",
          "output_type": "stream",
          "text": [
            "True\n"
          ]
        }
      ],
      "source": [
        "import re\n",
        "\n",
        "text = \"Hello, my name is Meghanath\"\n",
        "pattern = r\"Hello\"\n",
        "\n",
        "match = re.match(pattern, text)\n",
        "\n",
        "results = True if match else False\n",
        "print(results)\n"
      ]
    },
    {
      "cell_type": "markdown",
      "metadata": {
        "id": "IsiXjbl7Fusb"
      },
      "source": [
        "findall()"
      ]
    },
    {
      "cell_type": "code",
      "execution_count": null,
      "metadata": {
        "colab": {
          "background_save": true,
          "base_uri": "https://localhost:8080/"
        },
        "id": "WDakUj_XFyAR",
        "outputId": "212a5fb7-cc3e-4131-e1e4-dbfb5cb509cf"
      },
      "outputs": [
        {
          "name": "stdout",
          "output_type": "stream",
          "text": [
            "['2', '3']\n"
          ]
        }
      ],
      "source": [
        "import re\n",
        "\n",
        "text = \"I have 2 apples and 3 oranges.\"\n",
        "pattern = r\"\\d+\"  # Pattern to match one or more digits\n",
        "\n",
        "matches = re.findall(pattern, text)\n",
        "\n",
        "print(matches)\n"
      ]
    },
    {
      "cell_type": "markdown",
      "metadata": {
        "id": "S5hjJ5ubF1W0"
      },
      "source": [
        " fullmatch()"
      ]
    },
    {
      "cell_type": "code",
      "execution_count": null,
      "metadata": {
        "colab": {
          "background_save": true
        },
        "id": "k_lYo42LF2Uv",
        "outputId": "6f31618e-6273-4146-abd4-342b2e3467d8"
      },
      "outputs": [
        {
          "name": "stdout",
          "output_type": "stream",
          "text": [
            "True\n"
          ]
        }
      ],
      "source": [
        "import re\n",
        "\n",
        "text = \"12345\"\n",
        "pattern = r\"\\d{5}\"\n",
        "\n",
        "match = re.fullmatch(pattern, text)\n",
        "\n",
        "results = True if match else False\n",
        "print(results)\n"
      ]
    }
  ],
  "metadata": {
    "colab": {
      "provenance": [],
      "authorship_tag": "ABX9TyMAQq3mK4AXyahsCVdXEKKH",
      "include_colab_link": true
    },
    "kernelspec": {
      "display_name": "Python 3",
      "name": "python3"
    },
    "language_info": {
      "name": "python"
    }
  },
  "nbformat": 4,
  "nbformat_minor": 0
}